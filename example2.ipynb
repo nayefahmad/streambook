{
 "cells": [
  {
   "cell_type": "markdown",
   "id": "6a599f1f",
   "metadata": {},
   "source": [
    "# Example 2"
   ]
  },
  {
   "cell_type": "markdown",
   "id": "39b5cb46",
   "metadata": {},
   "source": [
    "This is a description of the project.\n",
    "\n",
    "Some more stuff"
   ]
  },
  {
   "cell_type": "code",
   "execution_count": 1,
   "id": "de990933",
   "metadata": {
    "execution": {
     "iopub.execute_input": "2022-02-02T17:13:56.468462Z",
     "iopub.status.busy": "2022-02-02T17:13:56.453192Z",
     "iopub.status.idle": "2022-02-02T17:13:57.126956Z",
     "shell.execute_reply": "2022-02-02T17:13:57.126956Z"
    }
   },
   "outputs": [],
   "source": [
    "import numpy as np\n",
    "import pandas as pd"
   ]
  },
  {
   "cell_type": "markdown",
   "id": "e44a997b",
   "metadata": {},
   "source": [
    "# Dataframes"
   ]
  },
  {
   "cell_type": "code",
   "execution_count": 2,
   "id": "9368ccec",
   "metadata": {
    "execution": {
     "iopub.execute_input": "2022-02-02T17:13:57.126956Z",
     "iopub.status.busy": "2022-02-02T17:13:57.126956Z",
     "iopub.status.idle": "2022-02-02T17:13:57.142618Z",
     "shell.execute_reply": "2022-02-02T17:13:57.142618Z"
    }
   },
   "outputs": [],
   "source": [
    "df = pd.DataFrame({'a': np.linspace(0, 10, 50)})"
   ]
  },
  {
   "cell_type": "code",
   "execution_count": 3,
   "id": "66aadb47",
   "metadata": {
    "execution": {
     "iopub.execute_input": "2022-02-02T17:13:57.158203Z",
     "iopub.status.busy": "2022-02-02T17:13:57.158203Z",
     "iopub.status.idle": "2022-02-02T17:13:57.174073Z",
     "shell.execute_reply": "2022-02-02T17:13:57.174073Z"
    }
   },
   "outputs": [
    {
     "data": {
      "text/plain": "          a\n0  0.000000\n1  0.204082\n2  0.408163\n3  0.612245\n4  0.816327",
      "text/html": "<div>\n<style scoped>\n    .dataframe tbody tr th:only-of-type {\n        vertical-align: middle;\n    }\n\n    .dataframe tbody tr th {\n        vertical-align: top;\n    }\n\n    .dataframe thead th {\n        text-align: right;\n    }\n</style>\n<table border=\"1\" class=\"dataframe\">\n  <thead>\n    <tr style=\"text-align: right;\">\n      <th></th>\n      <th>a</th>\n    </tr>\n  </thead>\n  <tbody>\n    <tr>\n      <th>0</th>\n      <td>0.000000</td>\n    </tr>\n    <tr>\n      <th>1</th>\n      <td>0.204082</td>\n    </tr>\n    <tr>\n      <th>2</th>\n      <td>0.408163</td>\n    </tr>\n    <tr>\n      <th>3</th>\n      <td>0.612245</td>\n    </tr>\n    <tr>\n      <th>4</th>\n      <td>0.816327</td>\n    </tr>\n  </tbody>\n</table>\n</div>"
     },
     "execution_count": 3,
     "metadata": {},
     "output_type": "execute_result"
    }
   ],
   "source": [
    "df.head()"
   ]
  },
  {
   "cell_type": "markdown",
   "id": "a8c4f2c3",
   "metadata": {},
   "source": [
    "## Subsection 1"
   ]
  },
  {
   "cell_type": "markdown",
   "id": "4fba41a9",
   "metadata": {},
   "source": [
    "This is a subsection."
   ]
  },
  {
   "cell_type": "markdown",
   "id": "2a2ec101",
   "metadata": {
    "lines_to_next_cell": 2
   },
   "source": [
    "End."
   ]
  }
 ],
 "metadata": {
  "jupytext": {
   "cell_metadata_filter": "-all"
  },
  "kernelspec": {
   "display_name": "Python 3",
   "language": "python",
   "name": "python3"
  },
  "language_info": {
   "codemirror_mode": {
    "name": "ipython",
    "version": 3
   },
   "file_extension": ".py",
   "mimetype": "text/x-python",
   "name": "python",
   "nbconvert_exporter": "python",
   "pygments_lexer": "ipython3",
   "version": "3.6.5"
  }
 },
 "nbformat": 4,
 "nbformat_minor": 5
}